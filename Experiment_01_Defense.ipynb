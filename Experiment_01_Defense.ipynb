{
 "cells": [
  {
   "cell_type": "code",
   "execution_count": 1,
   "metadata": {
    "collapsed": true
   },
   "outputs": [],
   "source": [
    "import sys\n",
    "import os\n",
    "from pandas import Series, DataFrame\n",
    "import pandas as pd\n",
    "import numpy as np"
   ]
  },
  {
   "cell_type": "code",
   "execution_count": 2,
   "metadata": {
    "collapsed": false
   },
   "outputs": [],
   "source": [
    "TacticName = 'Defense'\n",
    "\n",
    "spaceID0 = 'Defense_8x8_0509055749'\n",
    "gameObjectID0 = '0509055752'\n",
    "\n",
    "spaceID1 = 'Defense_8x8_0509055755'\n",
    "gameObjectID1 = '0509055758'\n",
    "\n",
    "spaceID2 = 'Defense_8x8_0509055801'\n",
    "gameObjectID2 = '0509055805'\n",
    "\n",
    "spaceID3 = 'Defense_8x8_0509055808'\n",
    "gameObjectID3 = '0509055811'\n",
    "\n",
    "spaceID4 = 'Defense_8x8_0509055815'\n",
    "gameObjectID4 = '0509055818'\n",
    "\n",
    "spaceID5 = 'Defense_8x8_0509055821'\n",
    "gameObjectID5 = '0509055824'\n",
    "\n",
    "spaceID6 = 'Defense_8x8_0509055828'\n",
    "gameObjectID6 = '0509055832'\n",
    "\n",
    "spaceID7 = 'Defense_8x8_0509055836'\n",
    "gameObjectID7 = '0509055838'\n",
    "\n",
    "spaceID8 = 'Defense_8x8_0509055841'\n",
    "gameObjectID8 = '0509055844'\n",
    "\n",
    "spaceID9 = 'Defense_8x8_0509055847'\n",
    "gameObjectID9 = '0509055850'\n",
    "\n",
    "spaceIDList = [spaceID0, spaceID1, spaceID2, spaceID3, spaceID4, spaceID5, spaceID6, spaceID7, spaceID8, spaceID9]\n",
    "gameObjectIDList = [gameObjectID0, gameObjectID1, gameObjectID2, gameObjectID3, gameObjectID4, \n",
    "                    gameObjectID5, gameObjectID6, gameObjectID7, gameObjectID8, gameObjectID9]"
   ]
  },
  {
   "cell_type": "code",
   "execution_count": 3,
   "metadata": {
    "collapsed": false
   },
   "outputs": [],
   "source": [
    "for i in range(0, 10, 1):\n",
    "    #input table\n",
    "    spaceID = spaceIDList[i]\n",
    "    gameObjectID = gameObjectIDList[i]\n",
    "    Space_Ambush_00_orl = pd.read_csv(\"./Defense/Space_\"+ spaceID +\".csv\")\n",
    "    GameObject_Ambush_00_orl = pd.read_csv(\"./Defense/GameObject_\"+ spaceID +\"_\"+ gameObjectID +\".csv\")\n",
    "    \n",
    "    #Title of output table\n",
    "    output = DataFrame(columns=['Generation', 'Fitness_RectangleQuality', 'Fitness_CorridorQuality'\n",
    "                            , 'Fitness_ConnectedQuality', 'SumOfSpaceFitnessScore'\n",
    "                            , 'Fitness_MainPathQuality', 'Fitness_Defense'\n",
    "                            , 'Fitness_OnMainPath_EnemyTrap', 'Fitness_OnMainPath_Treasure'\n",
    "                            , 'Fitness_BesideMainPath_EnemyTrap', 'Fitness_BesideMainPath_Treasure'\n",
    "                            , 'Fitness_TwoPronged', 'SumOfGameObjectFitnessScore'\n",
    "                            , 'Fitness_Defense_Space','Fitness_Defense_GameObject'])\n",
    "\n",
    "    for i in range(0, 51, 1):\n",
    "        #Get the data in one generation\n",
    "        Space_Ambush_00 = Space_Ambush_00_orl[3 + 100*i : 103 + 100*i]\n",
    "        Space_Ambush_00 = Space_Ambush_00.apply(pd.to_numeric, errors='coerce')\n",
    "        GameObject_Ambush_00 = GameObject_Ambush_00_orl[2 + 100*i : 102 + 100*i]\n",
    "        GameObject_Ambush_00 = GameObject_Ambush_00.apply(pd.to_numeric, errors='coerce')\n",
    "    \n",
    "        output.loc[i] = [i,\n",
    "                         Space_Ambush_00.Fitness_RectangleQuality.mean(),\n",
    "                         Space_Ambush_00.Fitness_CorridorQuality.mean(),\n",
    "                         Space_Ambush_00.Fitness_ConnectedQuality.mean(),\n",
    "                         Space_Ambush_00.Fitness_SumOfFitnessScore.mean(),\n",
    "                         GameObject_Ambush_00.Fitness_MainPathQuality.mean(),\n",
    "                         GameObject_Ambush_00.Fitness_Defense.mean(),\n",
    "                         GameObject_Ambush_00.Fitness_OnMainPath_EnemyTrap.mean(),\n",
    "                         GameObject_Ambush_00.Fitness_OnMainPath_Treasure.mean(),\n",
    "                         GameObject_Ambush_00.Fitness_BesideMainPath_EnemyTrap.mean(),\n",
    "                         GameObject_Ambush_00.Fitness_BesideMainPath_Treasure.mean(),\n",
    "                         GameObject_Ambush_00.Fitness_TwoPronged.mean(),\n",
    "                         GameObject_Ambush_00.Fitness_SumOfFitnessScore.mean(),\n",
    "                         GameObject_Ambush_00.Fitness_Defense_Space.mean(),\n",
    "                         GameObject_Ambush_00.Fitness_Defense_GameObject.mean()]\n",
    "    #OUTPUT\n",
    "    output.to_csv(\"./Defense/output_\"+spaceID+\".csv\", index=False)"
   ]
  },
  {
   "cell_type": "code",
   "execution_count": null,
   "metadata": {
    "collapsed": true
   },
   "outputs": [],
   "source": []
  },
  {
   "cell_type": "code",
   "execution_count": null,
   "metadata": {
    "collapsed": true
   },
   "outputs": [],
   "source": []
  }
 ],
 "metadata": {
  "kernelspec": {
   "display_name": "Python 2",
   "language": "python",
   "name": "python2"
  },
  "language_info": {
   "codemirror_mode": {
    "name": "ipython",
    "version": 2
   },
   "file_extension": ".py",
   "mimetype": "text/x-python",
   "name": "python",
   "nbconvert_exporter": "python",
   "pygments_lexer": "ipython2",
   "version": "2.7.13"
  }
 },
 "nbformat": 4,
 "nbformat_minor": 2
}
