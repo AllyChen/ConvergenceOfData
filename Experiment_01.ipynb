{
 "cells": [
  {
   "cell_type": "code",
   "execution_count": 1,
   "metadata": {
    "collapsed": true
   },
   "outputs": [],
   "source": [
    "import sys\n",
    "import os\n",
    "from pandas import Series, DataFrame\n",
    "import pandas as pd\n",
    "import numpy as np"
   ]
  },
  {
   "cell_type": "code",
   "execution_count": 2,
   "metadata": {
    "collapsed": false
   },
   "outputs": [],
   "source": [
    "spaceID0 = 'Pronged_8x8_0425035002'\n",
    "gameObjectID0 = '0425035005'\n",
    "\n",
    "spaceID1 = 'Pronged_8x8_0425035009'\n",
    "gameObjectID1 = '0425035012'\n",
    "\n",
    "spaceID2 = 'Pronged_8x8_0425035015'\n",
    "gameObjectID2 = '0425035018'\n",
    "\n",
    "spaceID3 = 'Pronged_8x8_0425035022'\n",
    "gameObjectID3 = '0425035025'\n",
    "\n",
    "spaceID4 = 'Pronged_8x8_0425035028'\n",
    "gameObjectID4 = '0425035031'\n",
    "\n",
    "spaceID5 = 'Pronged_8x8_0425035034'\n",
    "gameObjectID5 = '0425035037'\n",
    "\n",
    "spaceID6 = 'Pronged_8x8_0425035039'\n",
    "gameObjectID6 = '0425035042'\n",
    "\n",
    "spaceID7 = 'Pronged_8x8_0425035045'\n",
    "gameObjectID7 = '0425035048'\n",
    "\n",
    "spaceID8 = 'Pronged_8x8_0425035051'\n",
    "gameObjectID8 = '0425035054'\n",
    "\n",
    "spaceID9 = 'Pronged_8x8_0425035057'\n",
    "gameObjectID9 = '0425035100'\n",
    "\n",
    "spaceIDList = [spaceID0, spaceID1, spaceID2, spaceID3, spaceID4, spaceID5, spaceID6, spaceID7, spaceID8, spaceID9]\n",
    "gameObjectIDList = [gameObjectID0, gameObjectID1, gameObjectID2, gameObjectID3, gameObjectID4, \n",
    "                    gameObjectID5, gameObjectID6, gameObjectID7, gameObjectID8, gameObjectID9]"
   ]
  },
  {
   "cell_type": "code",
   "execution_count": 3,
   "metadata": {
    "collapsed": false
   },
   "outputs": [],
   "source": [
    "for i in range(0, 10, 1):\n",
    "    #input table\n",
    "    spaceID = spaceIDList[i]\n",
    "    gameObjectID = gameObjectIDList[i]\n",
    "    Space_Ambush_00_orl = pd.read_csv(\"./Experiment_01/Space_\"+ spaceID +\".csv\")\n",
    "    GameObject_Ambush_00_orl = pd.read_csv(\"./Experiment_01/GameObject_\"+ spaceID +\"_\"+ gameObjectID +\".csv\")\n",
    "\n",
    "    #Title of output table\n",
    "    output = DataFrame(columns=['Generation', 'Fitness_RectangleQuality', 'Fitness_CorridorQuality'\n",
    "                            , 'Fitness_ConnectedQuality', 'SumOfSpaceFitnessScore'\n",
    "                            , 'Fitness_MainPathQuality', 'Fitness_Defense'\n",
    "                            , 'Fitness_OnMainPath_EnemyTrap', 'Fitness_OnMainPath_Treasure'\n",
    "                            , 'Fitness_BesideMainPath_EnemyTrap', 'Fitness_BesideMainPath_Treasure'\n",
    "                            , 'Fitness_TwoPronged', 'SumOfGameObjectFitnessScore'])\n",
    "\n",
    "    for i in range(0, 51, 1):\n",
    "        #Get the data in one generation\n",
    "        Space_Ambush_00 = Space_Ambush_00_orl[3 + 100*i : 103 + 100*i]\n",
    "        Space_Ambush_00 = Space_Ambush_00.apply(pd.to_numeric, errors='coerce')\n",
    "        GameObject_Ambush_00 = GameObject_Ambush_00_orl[2 + 100*i : 102 + 100*i]\n",
    "        GameObject_Ambush_00 = GameObject_Ambush_00.apply(pd.to_numeric, errors='coerce')\n",
    "    \n",
    "        output.loc[i] = [i,\n",
    "                         Space_Ambush_00.Fitness_RectangleQuality.mean(),\n",
    "                         Space_Ambush_00.Fitness_CorridorQuality.mean(),\n",
    "                         Space_Ambush_00.Fitness_ConnectedQuality.mean(),\n",
    "                         Space_Ambush_00.Fitness_SumOfFitnessScore.mean(),\n",
    "                         GameObject_Ambush_00.Fitness_MainPathQuality.mean(),\n",
    "                         GameObject_Ambush_00.Fitness_Defense.mean(),\n",
    "                         GameObject_Ambush_00.Fitness_OnMainPath_EnemyTrap.mean(),\n",
    "                         GameObject_Ambush_00.Fitness_OnMainPath_Treasure.mean(),\n",
    "                         GameObject_Ambush_00.Fitness_BesideMainPath_EnemyTrap.mean(),\n",
    "                         GameObject_Ambush_00.Fitness_BesideMainPath_Treasure.mean(),\n",
    "                         GameObject_Ambush_00.Fitness_TwoPronged.mean(),\n",
    "                         GameObject_Ambush_00.Fitness_SumOfFitnessScore.mean()]\n",
    "    #OUTPUT\n",
    "    output.to_csv(\"./Experiment_01_output/output_\"+spaceID+\".csv\", index=False)"
   ]
  },
  {
   "cell_type": "code",
   "execution_count": null,
   "metadata": {
    "collapsed": true
   },
   "outputs": [],
   "source": []
  }
 ],
 "metadata": {
  "kernelspec": {
   "display_name": "Python 2",
   "language": "python",
   "name": "python2"
  },
  "language_info": {
   "codemirror_mode": {
    "name": "ipython",
    "version": 2
   },
   "file_extension": ".py",
   "mimetype": "text/x-python",
   "name": "python",
   "nbconvert_exporter": "python",
   "pygments_lexer": "ipython2",
   "version": "2.7.13"
  }
 },
 "nbformat": 4,
 "nbformat_minor": 2
}
