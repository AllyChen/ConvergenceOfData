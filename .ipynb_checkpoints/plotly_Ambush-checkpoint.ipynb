{
 "cells": [
  {
   "cell_type": "code",
   "execution_count": 1,
   "metadata": {
    "collapsed": true
   },
   "outputs": [],
   "source": [
    "import plotly\n",
    "import plotly.plotly as py\n",
    "import plotly.graph_objs as go\n",
    "import plotly.figure_factory as FF\n",
    "\n",
    "import numpy as np\n",
    "import pandas as pd"
   ]
  },
  {
   "cell_type": "code",
   "execution_count": 2,
   "metadata": {
    "collapsed": true
   },
   "outputs": [],
   "source": [
    "plotly.tools.set_credentials_file(username='ally53628', api_key='5reOBCbokSUCRKbPmcH3')"
   ]
  },
  {
   "cell_type": "code",
   "execution_count": 3,
   "metadata": {
    "collapsed": true
   },
   "outputs": [],
   "source": [
    "dataMean = pd.read_csv('./Experiment_01_output/output_Ambush_Mean.csv')\n",
    "dataSD = pd.read_csv('./Experiment_01_output/output_Ambush_SD.csv')"
   ]
  },
  {
   "cell_type": "code",
   "execution_count": 5,
   "metadata": {
    "collapsed": false
   },
   "outputs": [
    {
     "data": {
      "text/html": [
       "<iframe id=\"igraph\" scrolling=\"no\" style=\"border:none;\" seamless=\"seamless\" src=\"https://plot.ly/~ally53628/4.embed\" height=\"525px\" width=\"100%\"></iframe>"
      ],
      "text/plain": [
       "<plotly.tools.PlotlyDisplay object>"
      ]
     },
     "execution_count": 5,
     "metadata": {},
     "output_type": "execute_result"
    }
   ],
   "source": [
    "import plotly.plotly as py\n",
    "import plotly.graph_objs as go\n",
    "\n",
    "trace1 = go.Scatter(\n",
    "                    x=dataMean['Generation'], y=dataMean['Fitness_OnMainPath_EnemyTrap'],\n",
    "                    error_y=dict(type='data', array=dataSD['Fitness_OnMainPath_EnemyTrap'], visible=True),\n",
    "                    mode = 'lines+markers',\n",
    "                    name = 'Fitness_OnMainPath_EnemyTrap')\n",
    "trace2 = go.Scatter(\n",
    "                    x=dataMean['Generation'], y=dataMean['Fitness_BesideMainPath_EnemyTrap'],\n",
    "                    error_y=dict(type='data', array=dataSD['Fitness_BesideMainPath_EnemyTrap'], visible=True),\n",
    "                    mode = 'lines+markers',\n",
    "                    name = 'Fitness_BesideMainPath_EnemyTrap')\n",
    "\n",
    "layout = go.Layout(title='Ambush', titlefont=dict(size=30, color='#000000'),\n",
    "                   xaxis=dict(title='Generation', titlefont=dict(size=18, color='#000000')),\n",
    "                   yaxis=dict(title='Fitness Score', titlefont=dict(size=18, color='#000000')))\n",
    "\n",
    "fig = go.Figure(data=[trace1, trace2], layout=layout)\n",
    "py.iplot(fig, filename='basic-error-bar')"
   ]
  },
  {
   "cell_type": "code",
   "execution_count": 6,
   "metadata": {
    "collapsed": false
   },
   "outputs": [
    {
     "data": {
      "text/html": [
       "<iframe id=\"igraph\" scrolling=\"no\" style=\"border:none;\" seamless=\"seamless\" src=\"https://plot.ly/~ally53628/6.embed\" height=\"525px\" width=\"100%\"></iframe>"
      ],
      "text/plain": [
       "<plotly.tools.PlotlyDisplay object>"
      ]
     },
     "execution_count": 6,
     "metadata": {},
     "output_type": "execute_result"
    }
   ],
   "source": [
    "import plotly.plotly as py\n",
    "import plotly.graph_objs as go\n",
    "\n",
    "trace1 = go.Scatter(\n",
    "                    x=dataMean['Generation'], y=dataMean['Fitness_OnMainPath_EnemyTrap'],\n",
    "                    mode = 'lines+markers',\n",
    "                    name = 'Fitness_OnMainPath_EnemyTrap')\n",
    "trace2 = go.Scatter(\n",
    "                    x=dataMean['Generation'], y=dataMean['Fitness_BesideMainPath_EnemyTrap'],\n",
    "                    mode = 'lines+markers',\n",
    "                    name = 'Fitness_BesideMainPath_EnemyTrap')\n",
    "\n",
    "layout = go.Layout(title='Ambush', titlefont=dict(size=30, color='#000000'),\n",
    "                   xaxis=dict(title='Generation', titlefont=dict(size=18, color='#000000')),\n",
    "                   yaxis=dict(title='Fitness Score', titlefont=dict(size=18, color='#000000')))\n",
    "\n",
    "fig = go.Figure(data=[trace1, trace2], layout=layout)\n",
    "py.iplot(fig, filename='line-mode')"
   ]
  },
  {
   "cell_type": "code",
   "execution_count": null,
   "metadata": {
    "collapsed": true
   },
   "outputs": [],
   "source": []
  }
 ],
 "metadata": {
  "kernelspec": {
   "display_name": "Python 2",
   "language": "python",
   "name": "python2"
  },
  "language_info": {
   "codemirror_mode": {
    "name": "ipython",
    "version": 2
   },
   "file_extension": ".py",
   "mimetype": "text/x-python",
   "name": "python",
   "nbconvert_exporter": "python",
   "pygments_lexer": "ipython2",
   "version": "2.7.13"
  }
 },
 "nbformat": 4,
 "nbformat_minor": 2
}
