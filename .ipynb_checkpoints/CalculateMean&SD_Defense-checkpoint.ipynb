{
 "cells": [
  {
   "cell_type": "code",
   "execution_count": 1,
   "metadata": {
    "collapsed": true
   },
   "outputs": [],
   "source": [
    "import sys\n",
    "import os\n",
    "from pandas import Series, DataFrame\n",
    "import pandas as pd\n",
    "import numpy as np"
   ]
  },
  {
   "cell_type": "code",
   "execution_count": 2,
   "metadata": {
    "collapsed": true
   },
   "outputs": [],
   "source": [
    "TacticName = 'Defense'\n",
    "\n",
    "spaceID0 = 'Defense_8x8_0509055749'\n",
    "gameObjectID0 = '0509055752'\n",
    "\n",
    "spaceID1 = 'Defense_8x8_0509055755'\n",
    "gameObjectID1 = '0509055758'\n",
    "\n",
    "spaceID2 = 'Defense_8x8_0509055801'\n",
    "gameObjectID2 = '0509055805'\n",
    "\n",
    "spaceID3 = 'Defense_8x8_0509055808'\n",
    "gameObjectID3 = '0509055811'\n",
    "\n",
    "spaceID4 = 'Defense_8x8_0509055815'\n",
    "gameObjectID4 = '0509055818'\n",
    "\n",
    "spaceID5 = 'Defense_8x8_0509055821'\n",
    "gameObjectID5 = '0509055824'\n",
    "\n",
    "spaceID6 = 'Defense_8x8_0509055828'\n",
    "gameObjectID6 = '0509055832'\n",
    "\n",
    "spaceID7 = 'Defense_8x8_0509055836'\n",
    "gameObjectID7 = '0509055838'\n",
    "\n",
    "spaceID8 = 'Defense_8x8_0509055841'\n",
    "gameObjectID8 = '0509055844'\n",
    "\n",
    "spaceID9 = 'Defense_8x8_0509055847'\n",
    "gameObjectID9 = '0509055850'\n",
    "\n",
    "spaceIDList = [spaceID0, spaceID1, spaceID2, spaceID3, spaceID4, spaceID5, spaceID6, spaceID7, spaceID8, spaceID9]\n",
    "gameObjectIDList = [gameObjectID0, gameObjectID1, gameObjectID2, gameObjectID3, gameObjectID4, \n",
    "                    gameObjectID5, gameObjectID6, gameObjectID7, gameObjectID8, gameObjectID9]"
   ]
  },
  {
   "cell_type": "code",
   "execution_count": 3,
   "metadata": {
    "collapsed": false
   },
   "outputs": [],
   "source": [
    "# From https://codeselfstudy.com/blogs/how-to-calculate-standard-deviation-in-python\n",
    "from math import sqrt\n",
    "\n",
    "def standard_deviation(lst, population=True):\n",
    "    \"\"\"Calculates the standard deviation for a list of numbers.\"\"\"\n",
    "    num_items = len(lst)\n",
    "    mean = sum(lst) / num_items\n",
    "    differences = [round(x - mean, 9) for x in lst]\n",
    "    sq_differences = [round(d ** 2, 9) for d in differences]\n",
    "    ssd = sum(sq_differences)\n",
    " \n",
    "    # Note: it would be better to return a value and then print it outside\n",
    "    # the function, but this is just a quick way to print out the values along\n",
    "    # the way.\n",
    "    if population is True:\n",
    "        # This is POPULATION standard deviation.\n",
    "        variance = ssd / num_items\n",
    "    else:\n",
    "        # This is SAMPLE standard deviation.\n",
    "        variance = ssd / (num_items - 1)\n",
    "    sd = sqrt(variance)\n",
    "    return sd"
   ]
  },
  {
   "cell_type": "code",
   "execution_count": 4,
   "metadata": {
    "collapsed": false
   },
   "outputs": [],
   "source": [
    "def getData(spaceIDList, Generation, Fitness_RectangleQuality=False, Fitness_CorridorQuality=False, \n",
    "            Fitness_ConnectedQuality=False, SumOfSpaceFitnessScore=False, \n",
    "            Fitness_MainPathQuality=False, Fitness_Defense=False, \n",
    "            Fitness_OnMainPath_EnemyTrap=False, Fitness_OnMainPath_Treasure=False, \n",
    "            Fitness_BesideMainPath_EnemyTrap=False, Fitness_BesideMainPath_Treasure=False, \n",
    "            Fitness_TwoPronged=False, SumOfGameObjectFitnessScore=False,\n",
    "            Fitness_Defense_Space=False, Fitness_Defense_GameObject=False):\n",
    "    # Create the new list\n",
    "    List = []\n",
    "   \n",
    "    # Get the value from data\n",
    "    if Fitness_RectangleQuality is True:\n",
    "        needCalculate=True\n",
    "        Fitness='Fitness_RectangleQuality'\n",
    "    elif Fitness_CorridorQuality is True:\n",
    "        needCalculate=True\n",
    "        Fitness='Fitness_CorridorQuality'\n",
    "    elif Fitness_ConnectedQuality is True:\n",
    "        needCalculate=True\n",
    "        Fitness='Fitness_ConnectedQuality'\n",
    "    elif SumOfSpaceFitnessScore is True:\n",
    "        needCalculate=True\n",
    "        Fitness='SumOfSpaceFitnessScore'\n",
    "    elif Fitness_MainPathQuality is True:\n",
    "        needCalculate=True\n",
    "        Fitness='Fitness_MainPathQuality'\n",
    "    elif Fitness_Defense is True:\n",
    "        needCalculate=True\n",
    "        Fitness='Fitness_Defense'\n",
    "    elif Fitness_OnMainPath_EnemyTrap is True:\n",
    "        needCalculate=True\n",
    "        Fitness='Fitness_OnMainPath_EnemyTrap'\n",
    "    elif Fitness_OnMainPath_Treasure is True:\n",
    "        needCalculate=True\n",
    "        Fitness='Fitness_OnMainPath_Treasure'\n",
    "    elif Fitness_BesideMainPath_EnemyTrap is True:\n",
    "        needCalculate=True\n",
    "        Fitness='Fitness_BesideMainPath_EnemyTrap'\n",
    "    elif Fitness_BesideMainPath_Treasure is True:\n",
    "        needCalculate=True\n",
    "        Fitness='Fitness_BesideMainPath_Treasure'\n",
    "    elif Fitness_TwoPronged is True:\n",
    "        needCalculate=True\n",
    "        Fitness='Fitness_TwoPronged'\n",
    "    elif SumOfGameObjectFitnessScore is True:\n",
    "        needCalculate=True\n",
    "        Fitness='SumOfGameObjectFitnessScore'\n",
    "    elif Fitness_Defense_Space is True:\n",
    "        needCalculate=True\n",
    "        Fitness='Fitness_Defense_Space'\n",
    "    elif Fitness_Defense_GameObject is True:\n",
    "        needCalculate=True\n",
    "        Fitness='Fitness_Defense_GameObject'\n",
    "    else:\n",
    "        needCalculate=False\n",
    "    \n",
    "    if needCalculate is True:\n",
    "        for i in range(0, 10, 1):\n",
    "            #input table\n",
    "            spaceID = spaceIDList[i]\n",
    "            orlData = pd.read_csv(\"./Defense/output_\"+ spaceID +\".csv\")\n",
    "            List.append(orlData[Fitness][Generation])\n",
    "        \n",
    "    return List"
   ]
  },
  {
   "cell_type": "code",
   "execution_count": 5,
   "metadata": {
    "collapsed": false
   },
   "outputs": [
    {
     "ename": "IOError",
     "evalue": "File ./Defense/output_Defense_8x8_0509055749.csv does not exist",
     "output_type": "error",
     "traceback": [
      "\u001b[0;31m---------------------------------------------------------------------------\u001b[0m",
      "\u001b[0;31mIOError\u001b[0m                                   Traceback (most recent call last)",
      "\u001b[0;32m<ipython-input-5-93e44d1c79e9>\u001b[0m in \u001b[0;36m<module>\u001b[0;34m()\u001b[0m\n\u001b[1;32m     11\u001b[0m     \u001b[1;31m# Get the value in one generation\u001b[0m\u001b[1;33m\u001b[0m\u001b[1;33m\u001b[0m\u001b[0m\n\u001b[1;32m     12\u001b[0m     outputSD.loc[i] = [i,\n\u001b[0;32m---> 13\u001b[0;31m                        \u001b[0mstandard_deviation\u001b[0m\u001b[1;33m(\u001b[0m\u001b[0mgetData\u001b[0m\u001b[1;33m(\u001b[0m\u001b[0mspaceIDList\u001b[0m\u001b[1;33m,\u001b[0m \u001b[0mi\u001b[0m\u001b[1;33m,\u001b[0m \u001b[0mFitness_RectangleQuality\u001b[0m\u001b[1;33m=\u001b[0m\u001b[0mTrue\u001b[0m\u001b[1;33m)\u001b[0m\u001b[1;33m)\u001b[0m\u001b[1;33m,\u001b[0m\u001b[1;33m\u001b[0m\u001b[0m\n\u001b[0m\u001b[1;32m     14\u001b[0m                        \u001b[0mstandard_deviation\u001b[0m\u001b[1;33m(\u001b[0m\u001b[0mgetData\u001b[0m\u001b[1;33m(\u001b[0m\u001b[0mspaceIDList\u001b[0m\u001b[1;33m,\u001b[0m \u001b[0mi\u001b[0m\u001b[1;33m,\u001b[0m \u001b[0mFitness_CorridorQuality\u001b[0m\u001b[1;33m=\u001b[0m\u001b[0mTrue\u001b[0m\u001b[1;33m)\u001b[0m\u001b[1;33m)\u001b[0m\u001b[1;33m,\u001b[0m\u001b[1;33m\u001b[0m\u001b[0m\n\u001b[1;32m     15\u001b[0m                        \u001b[0mstandard_deviation\u001b[0m\u001b[1;33m(\u001b[0m\u001b[0mgetData\u001b[0m\u001b[1;33m(\u001b[0m\u001b[0mspaceIDList\u001b[0m\u001b[1;33m,\u001b[0m \u001b[0mi\u001b[0m\u001b[1;33m,\u001b[0m \u001b[0mFitness_ConnectedQuality\u001b[0m\u001b[1;33m=\u001b[0m\u001b[0mTrue\u001b[0m\u001b[1;33m)\u001b[0m\u001b[1;33m)\u001b[0m\u001b[1;33m,\u001b[0m\u001b[1;33m\u001b[0m\u001b[0m\n",
      "\u001b[0;32m<ipython-input-4-eb0342d8af04>\u001b[0m in \u001b[0;36mgetData\u001b[0;34m(spaceIDList, Generation, Fitness_RectangleQuality, Fitness_CorridorQuality, Fitness_ConnectedQuality, SumOfSpaceFitnessScore, Fitness_MainPathQuality, Fitness_Defense, Fitness_OnMainPath_EnemyTrap, Fitness_OnMainPath_Treasure, Fitness_BesideMainPath_EnemyTrap, Fitness_BesideMainPath_Treasure, Fitness_TwoPronged, SumOfGameObjectFitnessScore)\u001b[0m\n\u001b[1;32m     53\u001b[0m             \u001b[0mspaceID\u001b[0m \u001b[1;33m=\u001b[0m \u001b[0mspaceIDList\u001b[0m\u001b[1;33m[\u001b[0m\u001b[0mi\u001b[0m\u001b[1;33m]\u001b[0m\u001b[1;33m\u001b[0m\u001b[0m\n\u001b[1;32m     54\u001b[0m             \u001b[1;31m#orlData = pd.read_csv(\"./Experiment_01_output/output_\"+ spaceID +\".csv\")\u001b[0m\u001b[1;33m\u001b[0m\u001b[1;33m\u001b[0m\u001b[0m\n\u001b[0;32m---> 55\u001b[0;31m             \u001b[0morlData\u001b[0m \u001b[1;33m=\u001b[0m \u001b[0mpd\u001b[0m\u001b[1;33m.\u001b[0m\u001b[0mread_csv\u001b[0m\u001b[1;33m(\u001b[0m\u001b[1;34m\"./Defense/output_\"\u001b[0m\u001b[1;33m+\u001b[0m \u001b[0mspaceID\u001b[0m \u001b[1;33m+\u001b[0m\u001b[1;34m\".csv\"\u001b[0m\u001b[1;33m)\u001b[0m\u001b[1;33m\u001b[0m\u001b[0m\n\u001b[0m\u001b[1;32m     56\u001b[0m             \u001b[0mList\u001b[0m\u001b[1;33m.\u001b[0m\u001b[0mappend\u001b[0m\u001b[1;33m(\u001b[0m\u001b[0morlData\u001b[0m\u001b[1;33m[\u001b[0m\u001b[0mFitness\u001b[0m\u001b[1;33m]\u001b[0m\u001b[1;33m[\u001b[0m\u001b[0mGeneration\u001b[0m\u001b[1;33m]\u001b[0m\u001b[1;33m)\u001b[0m\u001b[1;33m\u001b[0m\u001b[0m\n\u001b[1;32m     57\u001b[0m \u001b[1;33m\u001b[0m\u001b[0m\n",
      "\u001b[0;32mC:\\Users\\Ally\\Anaconda2\\lib\\site-packages\\pandas\\io\\parsers.pyc\u001b[0m in \u001b[0;36mparser_f\u001b[0;34m(filepath_or_buffer, sep, delimiter, header, names, index_col, usecols, squeeze, prefix, mangle_dupe_cols, dtype, engine, converters, true_values, false_values, skipinitialspace, skiprows, nrows, na_values, keep_default_na, na_filter, verbose, skip_blank_lines, parse_dates, infer_datetime_format, keep_date_col, date_parser, dayfirst, iterator, chunksize, compression, thousands, decimal, lineterminator, quotechar, quoting, escapechar, comment, encoding, dialect, tupleize_cols, error_bad_lines, warn_bad_lines, skipfooter, skip_footer, doublequote, delim_whitespace, as_recarray, compact_ints, use_unsigned, low_memory, buffer_lines, memory_map, float_precision)\u001b[0m\n\u001b[1;32m    644\u001b[0m                     skip_blank_lines=skip_blank_lines)\n\u001b[1;32m    645\u001b[0m \u001b[1;33m\u001b[0m\u001b[0m\n\u001b[0;32m--> 646\u001b[0;31m         \u001b[1;32mreturn\u001b[0m \u001b[0m_read\u001b[0m\u001b[1;33m(\u001b[0m\u001b[0mfilepath_or_buffer\u001b[0m\u001b[1;33m,\u001b[0m \u001b[0mkwds\u001b[0m\u001b[1;33m)\u001b[0m\u001b[1;33m\u001b[0m\u001b[0m\n\u001b[0m\u001b[1;32m    647\u001b[0m \u001b[1;33m\u001b[0m\u001b[0m\n\u001b[1;32m    648\u001b[0m     \u001b[0mparser_f\u001b[0m\u001b[1;33m.\u001b[0m\u001b[0m__name__\u001b[0m \u001b[1;33m=\u001b[0m \u001b[0mname\u001b[0m\u001b[1;33m\u001b[0m\u001b[0m\n",
      "\u001b[0;32mC:\\Users\\Ally\\Anaconda2\\lib\\site-packages\\pandas\\io\\parsers.pyc\u001b[0m in \u001b[0;36m_read\u001b[0;34m(filepath_or_buffer, kwds)\u001b[0m\n\u001b[1;32m    387\u001b[0m \u001b[1;33m\u001b[0m\u001b[0m\n\u001b[1;32m    388\u001b[0m     \u001b[1;31m# Create the parser.\u001b[0m\u001b[1;33m\u001b[0m\u001b[1;33m\u001b[0m\u001b[0m\n\u001b[0;32m--> 389\u001b[0;31m     \u001b[0mparser\u001b[0m \u001b[1;33m=\u001b[0m \u001b[0mTextFileReader\u001b[0m\u001b[1;33m(\u001b[0m\u001b[0mfilepath_or_buffer\u001b[0m\u001b[1;33m,\u001b[0m \u001b[1;33m**\u001b[0m\u001b[0mkwds\u001b[0m\u001b[1;33m)\u001b[0m\u001b[1;33m\u001b[0m\u001b[0m\n\u001b[0m\u001b[1;32m    390\u001b[0m \u001b[1;33m\u001b[0m\u001b[0m\n\u001b[1;32m    391\u001b[0m     \u001b[1;32mif\u001b[0m \u001b[1;33m(\u001b[0m\u001b[0mnrows\u001b[0m \u001b[1;32mis\u001b[0m \u001b[1;32mnot\u001b[0m \u001b[0mNone\u001b[0m\u001b[1;33m)\u001b[0m \u001b[1;32mand\u001b[0m \u001b[1;33m(\u001b[0m\u001b[0mchunksize\u001b[0m \u001b[1;32mis\u001b[0m \u001b[1;32mnot\u001b[0m \u001b[0mNone\u001b[0m\u001b[1;33m)\u001b[0m\u001b[1;33m:\u001b[0m\u001b[1;33m\u001b[0m\u001b[0m\n",
      "\u001b[0;32mC:\\Users\\Ally\\Anaconda2\\lib\\site-packages\\pandas\\io\\parsers.pyc\u001b[0m in \u001b[0;36m__init__\u001b[0;34m(self, f, engine, **kwds)\u001b[0m\n\u001b[1;32m    728\u001b[0m             \u001b[0mself\u001b[0m\u001b[1;33m.\u001b[0m\u001b[0moptions\u001b[0m\u001b[1;33m[\u001b[0m\u001b[1;34m'has_index_names'\u001b[0m\u001b[1;33m]\u001b[0m \u001b[1;33m=\u001b[0m \u001b[0mkwds\u001b[0m\u001b[1;33m[\u001b[0m\u001b[1;34m'has_index_names'\u001b[0m\u001b[1;33m]\u001b[0m\u001b[1;33m\u001b[0m\u001b[0m\n\u001b[1;32m    729\u001b[0m \u001b[1;33m\u001b[0m\u001b[0m\n\u001b[0;32m--> 730\u001b[0;31m         \u001b[0mself\u001b[0m\u001b[1;33m.\u001b[0m\u001b[0m_make_engine\u001b[0m\u001b[1;33m(\u001b[0m\u001b[0mself\u001b[0m\u001b[1;33m.\u001b[0m\u001b[0mengine\u001b[0m\u001b[1;33m)\u001b[0m\u001b[1;33m\u001b[0m\u001b[0m\n\u001b[0m\u001b[1;32m    731\u001b[0m \u001b[1;33m\u001b[0m\u001b[0m\n\u001b[1;32m    732\u001b[0m     \u001b[1;32mdef\u001b[0m \u001b[0mclose\u001b[0m\u001b[1;33m(\u001b[0m\u001b[0mself\u001b[0m\u001b[1;33m)\u001b[0m\u001b[1;33m:\u001b[0m\u001b[1;33m\u001b[0m\u001b[0m\n",
      "\u001b[0;32mC:\\Users\\Ally\\Anaconda2\\lib\\site-packages\\pandas\\io\\parsers.pyc\u001b[0m in \u001b[0;36m_make_engine\u001b[0;34m(self, engine)\u001b[0m\n\u001b[1;32m    921\u001b[0m     \u001b[1;32mdef\u001b[0m \u001b[0m_make_engine\u001b[0m\u001b[1;33m(\u001b[0m\u001b[0mself\u001b[0m\u001b[1;33m,\u001b[0m \u001b[0mengine\u001b[0m\u001b[1;33m=\u001b[0m\u001b[1;34m'c'\u001b[0m\u001b[1;33m)\u001b[0m\u001b[1;33m:\u001b[0m\u001b[1;33m\u001b[0m\u001b[0m\n\u001b[1;32m    922\u001b[0m         \u001b[1;32mif\u001b[0m \u001b[0mengine\u001b[0m \u001b[1;33m==\u001b[0m \u001b[1;34m'c'\u001b[0m\u001b[1;33m:\u001b[0m\u001b[1;33m\u001b[0m\u001b[0m\n\u001b[0;32m--> 923\u001b[0;31m             \u001b[0mself\u001b[0m\u001b[1;33m.\u001b[0m\u001b[0m_engine\u001b[0m \u001b[1;33m=\u001b[0m \u001b[0mCParserWrapper\u001b[0m\u001b[1;33m(\u001b[0m\u001b[0mself\u001b[0m\u001b[1;33m.\u001b[0m\u001b[0mf\u001b[0m\u001b[1;33m,\u001b[0m \u001b[1;33m**\u001b[0m\u001b[0mself\u001b[0m\u001b[1;33m.\u001b[0m\u001b[0moptions\u001b[0m\u001b[1;33m)\u001b[0m\u001b[1;33m\u001b[0m\u001b[0m\n\u001b[0m\u001b[1;32m    924\u001b[0m         \u001b[1;32melse\u001b[0m\u001b[1;33m:\u001b[0m\u001b[1;33m\u001b[0m\u001b[0m\n\u001b[1;32m    925\u001b[0m             \u001b[1;32mif\u001b[0m \u001b[0mengine\u001b[0m \u001b[1;33m==\u001b[0m \u001b[1;34m'python'\u001b[0m\u001b[1;33m:\u001b[0m\u001b[1;33m\u001b[0m\u001b[0m\n",
      "\u001b[0;32mC:\\Users\\Ally\\Anaconda2\\lib\\site-packages\\pandas\\io\\parsers.pyc\u001b[0m in \u001b[0;36m__init__\u001b[0;34m(self, src, **kwds)\u001b[0m\n\u001b[1;32m   1388\u001b[0m         \u001b[0mkwds\u001b[0m\u001b[1;33m[\u001b[0m\u001b[1;34m'allow_leading_cols'\u001b[0m\u001b[1;33m]\u001b[0m \u001b[1;33m=\u001b[0m \u001b[0mself\u001b[0m\u001b[1;33m.\u001b[0m\u001b[0mindex_col\u001b[0m \u001b[1;32mis\u001b[0m \u001b[1;32mnot\u001b[0m \u001b[0mFalse\u001b[0m\u001b[1;33m\u001b[0m\u001b[0m\n\u001b[1;32m   1389\u001b[0m \u001b[1;33m\u001b[0m\u001b[0m\n\u001b[0;32m-> 1390\u001b[0;31m         \u001b[0mself\u001b[0m\u001b[1;33m.\u001b[0m\u001b[0m_reader\u001b[0m \u001b[1;33m=\u001b[0m \u001b[0m_parser\u001b[0m\u001b[1;33m.\u001b[0m\u001b[0mTextReader\u001b[0m\u001b[1;33m(\u001b[0m\u001b[0msrc\u001b[0m\u001b[1;33m,\u001b[0m \u001b[1;33m**\u001b[0m\u001b[0mkwds\u001b[0m\u001b[1;33m)\u001b[0m\u001b[1;33m\u001b[0m\u001b[0m\n\u001b[0m\u001b[1;32m   1391\u001b[0m \u001b[1;33m\u001b[0m\u001b[0m\n\u001b[1;32m   1392\u001b[0m         \u001b[1;31m# XXX\u001b[0m\u001b[1;33m\u001b[0m\u001b[1;33m\u001b[0m\u001b[0m\n",
      "\u001b[0;32mpandas\\parser.pyx\u001b[0m in \u001b[0;36mpandas.parser.TextReader.__cinit__ (pandas\\parser.c:4184)\u001b[0;34m()\u001b[0m\n",
      "\u001b[0;32mpandas\\parser.pyx\u001b[0m in \u001b[0;36mpandas.parser.TextReader._setup_parser_source (pandas\\parser.c:8449)\u001b[0;34m()\u001b[0m\n",
      "\u001b[0;31mIOError\u001b[0m: File ./Defense/output_Defense_8x8_0509055749.csv does not exist"
     ]
    }
   ],
   "source": [
    "# Output the SD\n",
    "# Title of output table\n",
    "outputSD = DataFrame(columns=['Generation', 'Fitness_RectangleQuality', 'Fitness_CorridorQuality'\n",
    "                            , 'Fitness_ConnectedQuality', 'SumOfSpaceFitnessScore'\n",
    "                            , 'Fitness_MainPathQuality', 'Fitness_Defense'\n",
    "                            , 'Fitness_OnMainPath_EnemyTrap', 'Fitness_OnMainPath_Treasure'\n",
    "                            , 'Fitness_BesideMainPath_EnemyTrap', 'Fitness_BesideMainPath_Treasure'\n",
    "                            , 'Fitness_TwoPronged', 'SumOfGameObjectFitnessScore'\n",
    "                            , 'Fitness_Defense_Space','Fitness_Defense_GameObject'])\n",
    "\n",
    "for i in range(0, 51, 1):\n",
    "    # Get the value in one generation\n",
    "    outputSD.loc[i] = [i,\n",
    "                       standard_deviation(getData(spaceIDList, i, Fitness_RectangleQuality=True)),\n",
    "                       standard_deviation(getData(spaceIDList, i, Fitness_CorridorQuality=True)),\n",
    "                       standard_deviation(getData(spaceIDList, i, Fitness_ConnectedQuality=True)),\n",
    "                       standard_deviation(getData(spaceIDList, i, SumOfSpaceFitnessScore=True)),\n",
    "                       standard_deviation(getData(spaceIDList, i, Fitness_MainPathQuality=True)),\n",
    "                       standard_deviation(getData(spaceIDList, i, Fitness_Defense=True)),\n",
    "                       standard_deviation(getData(spaceIDList, i, Fitness_OnMainPath_EnemyTrap=True)),\n",
    "                       standard_deviation(getData(spaceIDList, i, Fitness_OnMainPath_Treasure=True)),\n",
    "                       standard_deviation(getData(spaceIDList, i, Fitness_BesideMainPath_EnemyTrap=True)),\n",
    "                       standard_deviation(getData(spaceIDList, i, Fitness_BesideMainPath_Treasure=True)),\n",
    "                       standard_deviation(getData(spaceIDList, i, Fitness_TwoPronged=True)),\n",
    "                       standard_deviation(getData(spaceIDList, i, SumOfGameObjectFitnessScore=True),\n",
    "                       standard_deviation(getData(spaceIDList, i, Fitness_Defense_Space=True)),\n",
    "                       standard_deviation(getData(spaceIDList, i, Fitness_Defense_GameObject=True))]\n",
    "# OUTPUT\n",
    "outputSD.to_csv(\"./Defense/output_\"+ TacticName +\"_SD.csv\", index=False)"
   ]
  },
  {
   "cell_type": "code",
   "execution_count": 6,
   "metadata": {
    "collapsed": false
   },
   "outputs": [
    {
     "ename": "IOError",
     "evalue": "File ./Defense/output_Defense_8x8_0509055749.csv does not exist",
     "output_type": "error",
     "traceback": [
      "\u001b[0;31m---------------------------------------------------------------------------\u001b[0m",
      "\u001b[0;31mIOError\u001b[0m                                   Traceback (most recent call last)",
      "\u001b[0;32m<ipython-input-6-3beee3a81576>\u001b[0m in \u001b[0;36m<module>\u001b[0;34m()\u001b[0m\n\u001b[1;32m     11\u001b[0m     \u001b[1;31m# Get the value in one generation\u001b[0m\u001b[1;33m\u001b[0m\u001b[1;33m\u001b[0m\u001b[0m\n\u001b[1;32m     12\u001b[0m     outputMean.loc[i] = [i,\n\u001b[0;32m---> 13\u001b[0;31m                          \u001b[0msum\u001b[0m\u001b[1;33m(\u001b[0m\u001b[0mgetData\u001b[0m\u001b[1;33m(\u001b[0m\u001b[0mspaceIDList\u001b[0m\u001b[1;33m,\u001b[0m \u001b[0mi\u001b[0m\u001b[1;33m,\u001b[0m \u001b[0mFitness_RectangleQuality\u001b[0m\u001b[1;33m=\u001b[0m\u001b[0mTrue\u001b[0m\u001b[1;33m)\u001b[0m\u001b[1;33m)\u001b[0m\u001b[1;33m/\u001b[0m\u001b[1;36m10\u001b[0m\u001b[1;33m,\u001b[0m\u001b[1;33m\u001b[0m\u001b[0m\n\u001b[0m\u001b[1;32m     14\u001b[0m                          \u001b[0msum\u001b[0m\u001b[1;33m(\u001b[0m\u001b[0mgetData\u001b[0m\u001b[1;33m(\u001b[0m\u001b[0mspaceIDList\u001b[0m\u001b[1;33m,\u001b[0m \u001b[0mi\u001b[0m\u001b[1;33m,\u001b[0m \u001b[0mFitness_CorridorQuality\u001b[0m\u001b[1;33m=\u001b[0m\u001b[0mTrue\u001b[0m\u001b[1;33m)\u001b[0m\u001b[1;33m)\u001b[0m\u001b[1;33m/\u001b[0m\u001b[1;36m10\u001b[0m\u001b[1;33m,\u001b[0m\u001b[1;33m\u001b[0m\u001b[0m\n\u001b[1;32m     15\u001b[0m                          \u001b[0msum\u001b[0m\u001b[1;33m(\u001b[0m\u001b[0mgetData\u001b[0m\u001b[1;33m(\u001b[0m\u001b[0mspaceIDList\u001b[0m\u001b[1;33m,\u001b[0m \u001b[0mi\u001b[0m\u001b[1;33m,\u001b[0m \u001b[0mFitness_ConnectedQuality\u001b[0m\u001b[1;33m=\u001b[0m\u001b[0mTrue\u001b[0m\u001b[1;33m)\u001b[0m\u001b[1;33m)\u001b[0m\u001b[1;33m/\u001b[0m\u001b[1;36m10\u001b[0m\u001b[1;33m,\u001b[0m\u001b[1;33m\u001b[0m\u001b[0m\n",
      "\u001b[0;32m<ipython-input-4-eb0342d8af04>\u001b[0m in \u001b[0;36mgetData\u001b[0;34m(spaceIDList, Generation, Fitness_RectangleQuality, Fitness_CorridorQuality, Fitness_ConnectedQuality, SumOfSpaceFitnessScore, Fitness_MainPathQuality, Fitness_Defense, Fitness_OnMainPath_EnemyTrap, Fitness_OnMainPath_Treasure, Fitness_BesideMainPath_EnemyTrap, Fitness_BesideMainPath_Treasure, Fitness_TwoPronged, SumOfGameObjectFitnessScore)\u001b[0m\n\u001b[1;32m     53\u001b[0m             \u001b[0mspaceID\u001b[0m \u001b[1;33m=\u001b[0m \u001b[0mspaceIDList\u001b[0m\u001b[1;33m[\u001b[0m\u001b[0mi\u001b[0m\u001b[1;33m]\u001b[0m\u001b[1;33m\u001b[0m\u001b[0m\n\u001b[1;32m     54\u001b[0m             \u001b[1;31m#orlData = pd.read_csv(\"./Experiment_01_output/output_\"+ spaceID +\".csv\")\u001b[0m\u001b[1;33m\u001b[0m\u001b[1;33m\u001b[0m\u001b[0m\n\u001b[0;32m---> 55\u001b[0;31m             \u001b[0morlData\u001b[0m \u001b[1;33m=\u001b[0m \u001b[0mpd\u001b[0m\u001b[1;33m.\u001b[0m\u001b[0mread_csv\u001b[0m\u001b[1;33m(\u001b[0m\u001b[1;34m\"./Defense/output_\"\u001b[0m\u001b[1;33m+\u001b[0m \u001b[0mspaceID\u001b[0m \u001b[1;33m+\u001b[0m\u001b[1;34m\".csv\"\u001b[0m\u001b[1;33m)\u001b[0m\u001b[1;33m\u001b[0m\u001b[0m\n\u001b[0m\u001b[1;32m     56\u001b[0m             \u001b[0mList\u001b[0m\u001b[1;33m.\u001b[0m\u001b[0mappend\u001b[0m\u001b[1;33m(\u001b[0m\u001b[0morlData\u001b[0m\u001b[1;33m[\u001b[0m\u001b[0mFitness\u001b[0m\u001b[1;33m]\u001b[0m\u001b[1;33m[\u001b[0m\u001b[0mGeneration\u001b[0m\u001b[1;33m]\u001b[0m\u001b[1;33m)\u001b[0m\u001b[1;33m\u001b[0m\u001b[0m\n\u001b[1;32m     57\u001b[0m \u001b[1;33m\u001b[0m\u001b[0m\n",
      "\u001b[0;32mC:\\Users\\Ally\\Anaconda2\\lib\\site-packages\\pandas\\io\\parsers.pyc\u001b[0m in \u001b[0;36mparser_f\u001b[0;34m(filepath_or_buffer, sep, delimiter, header, names, index_col, usecols, squeeze, prefix, mangle_dupe_cols, dtype, engine, converters, true_values, false_values, skipinitialspace, skiprows, nrows, na_values, keep_default_na, na_filter, verbose, skip_blank_lines, parse_dates, infer_datetime_format, keep_date_col, date_parser, dayfirst, iterator, chunksize, compression, thousands, decimal, lineterminator, quotechar, quoting, escapechar, comment, encoding, dialect, tupleize_cols, error_bad_lines, warn_bad_lines, skipfooter, skip_footer, doublequote, delim_whitespace, as_recarray, compact_ints, use_unsigned, low_memory, buffer_lines, memory_map, float_precision)\u001b[0m\n\u001b[1;32m    644\u001b[0m                     skip_blank_lines=skip_blank_lines)\n\u001b[1;32m    645\u001b[0m \u001b[1;33m\u001b[0m\u001b[0m\n\u001b[0;32m--> 646\u001b[0;31m         \u001b[1;32mreturn\u001b[0m \u001b[0m_read\u001b[0m\u001b[1;33m(\u001b[0m\u001b[0mfilepath_or_buffer\u001b[0m\u001b[1;33m,\u001b[0m \u001b[0mkwds\u001b[0m\u001b[1;33m)\u001b[0m\u001b[1;33m\u001b[0m\u001b[0m\n\u001b[0m\u001b[1;32m    647\u001b[0m \u001b[1;33m\u001b[0m\u001b[0m\n\u001b[1;32m    648\u001b[0m     \u001b[0mparser_f\u001b[0m\u001b[1;33m.\u001b[0m\u001b[0m__name__\u001b[0m \u001b[1;33m=\u001b[0m \u001b[0mname\u001b[0m\u001b[1;33m\u001b[0m\u001b[0m\n",
      "\u001b[0;32mC:\\Users\\Ally\\Anaconda2\\lib\\site-packages\\pandas\\io\\parsers.pyc\u001b[0m in \u001b[0;36m_read\u001b[0;34m(filepath_or_buffer, kwds)\u001b[0m\n\u001b[1;32m    387\u001b[0m \u001b[1;33m\u001b[0m\u001b[0m\n\u001b[1;32m    388\u001b[0m     \u001b[1;31m# Create the parser.\u001b[0m\u001b[1;33m\u001b[0m\u001b[1;33m\u001b[0m\u001b[0m\n\u001b[0;32m--> 389\u001b[0;31m     \u001b[0mparser\u001b[0m \u001b[1;33m=\u001b[0m \u001b[0mTextFileReader\u001b[0m\u001b[1;33m(\u001b[0m\u001b[0mfilepath_or_buffer\u001b[0m\u001b[1;33m,\u001b[0m \u001b[1;33m**\u001b[0m\u001b[0mkwds\u001b[0m\u001b[1;33m)\u001b[0m\u001b[1;33m\u001b[0m\u001b[0m\n\u001b[0m\u001b[1;32m    390\u001b[0m \u001b[1;33m\u001b[0m\u001b[0m\n\u001b[1;32m    391\u001b[0m     \u001b[1;32mif\u001b[0m \u001b[1;33m(\u001b[0m\u001b[0mnrows\u001b[0m \u001b[1;32mis\u001b[0m \u001b[1;32mnot\u001b[0m \u001b[0mNone\u001b[0m\u001b[1;33m)\u001b[0m \u001b[1;32mand\u001b[0m \u001b[1;33m(\u001b[0m\u001b[0mchunksize\u001b[0m \u001b[1;32mis\u001b[0m \u001b[1;32mnot\u001b[0m \u001b[0mNone\u001b[0m\u001b[1;33m)\u001b[0m\u001b[1;33m:\u001b[0m\u001b[1;33m\u001b[0m\u001b[0m\n",
      "\u001b[0;32mC:\\Users\\Ally\\Anaconda2\\lib\\site-packages\\pandas\\io\\parsers.pyc\u001b[0m in \u001b[0;36m__init__\u001b[0;34m(self, f, engine, **kwds)\u001b[0m\n\u001b[1;32m    728\u001b[0m             \u001b[0mself\u001b[0m\u001b[1;33m.\u001b[0m\u001b[0moptions\u001b[0m\u001b[1;33m[\u001b[0m\u001b[1;34m'has_index_names'\u001b[0m\u001b[1;33m]\u001b[0m \u001b[1;33m=\u001b[0m \u001b[0mkwds\u001b[0m\u001b[1;33m[\u001b[0m\u001b[1;34m'has_index_names'\u001b[0m\u001b[1;33m]\u001b[0m\u001b[1;33m\u001b[0m\u001b[0m\n\u001b[1;32m    729\u001b[0m \u001b[1;33m\u001b[0m\u001b[0m\n\u001b[0;32m--> 730\u001b[0;31m         \u001b[0mself\u001b[0m\u001b[1;33m.\u001b[0m\u001b[0m_make_engine\u001b[0m\u001b[1;33m(\u001b[0m\u001b[0mself\u001b[0m\u001b[1;33m.\u001b[0m\u001b[0mengine\u001b[0m\u001b[1;33m)\u001b[0m\u001b[1;33m\u001b[0m\u001b[0m\n\u001b[0m\u001b[1;32m    731\u001b[0m \u001b[1;33m\u001b[0m\u001b[0m\n\u001b[1;32m    732\u001b[0m     \u001b[1;32mdef\u001b[0m \u001b[0mclose\u001b[0m\u001b[1;33m(\u001b[0m\u001b[0mself\u001b[0m\u001b[1;33m)\u001b[0m\u001b[1;33m:\u001b[0m\u001b[1;33m\u001b[0m\u001b[0m\n",
      "\u001b[0;32mC:\\Users\\Ally\\Anaconda2\\lib\\site-packages\\pandas\\io\\parsers.pyc\u001b[0m in \u001b[0;36m_make_engine\u001b[0;34m(self, engine)\u001b[0m\n\u001b[1;32m    921\u001b[0m     \u001b[1;32mdef\u001b[0m \u001b[0m_make_engine\u001b[0m\u001b[1;33m(\u001b[0m\u001b[0mself\u001b[0m\u001b[1;33m,\u001b[0m \u001b[0mengine\u001b[0m\u001b[1;33m=\u001b[0m\u001b[1;34m'c'\u001b[0m\u001b[1;33m)\u001b[0m\u001b[1;33m:\u001b[0m\u001b[1;33m\u001b[0m\u001b[0m\n\u001b[1;32m    922\u001b[0m         \u001b[1;32mif\u001b[0m \u001b[0mengine\u001b[0m \u001b[1;33m==\u001b[0m \u001b[1;34m'c'\u001b[0m\u001b[1;33m:\u001b[0m\u001b[1;33m\u001b[0m\u001b[0m\n\u001b[0;32m--> 923\u001b[0;31m             \u001b[0mself\u001b[0m\u001b[1;33m.\u001b[0m\u001b[0m_engine\u001b[0m \u001b[1;33m=\u001b[0m \u001b[0mCParserWrapper\u001b[0m\u001b[1;33m(\u001b[0m\u001b[0mself\u001b[0m\u001b[1;33m.\u001b[0m\u001b[0mf\u001b[0m\u001b[1;33m,\u001b[0m \u001b[1;33m**\u001b[0m\u001b[0mself\u001b[0m\u001b[1;33m.\u001b[0m\u001b[0moptions\u001b[0m\u001b[1;33m)\u001b[0m\u001b[1;33m\u001b[0m\u001b[0m\n\u001b[0m\u001b[1;32m    924\u001b[0m         \u001b[1;32melse\u001b[0m\u001b[1;33m:\u001b[0m\u001b[1;33m\u001b[0m\u001b[0m\n\u001b[1;32m    925\u001b[0m             \u001b[1;32mif\u001b[0m \u001b[0mengine\u001b[0m \u001b[1;33m==\u001b[0m \u001b[1;34m'python'\u001b[0m\u001b[1;33m:\u001b[0m\u001b[1;33m\u001b[0m\u001b[0m\n",
      "\u001b[0;32mC:\\Users\\Ally\\Anaconda2\\lib\\site-packages\\pandas\\io\\parsers.pyc\u001b[0m in \u001b[0;36m__init__\u001b[0;34m(self, src, **kwds)\u001b[0m\n\u001b[1;32m   1388\u001b[0m         \u001b[0mkwds\u001b[0m\u001b[1;33m[\u001b[0m\u001b[1;34m'allow_leading_cols'\u001b[0m\u001b[1;33m]\u001b[0m \u001b[1;33m=\u001b[0m \u001b[0mself\u001b[0m\u001b[1;33m.\u001b[0m\u001b[0mindex_col\u001b[0m \u001b[1;32mis\u001b[0m \u001b[1;32mnot\u001b[0m \u001b[0mFalse\u001b[0m\u001b[1;33m\u001b[0m\u001b[0m\n\u001b[1;32m   1389\u001b[0m \u001b[1;33m\u001b[0m\u001b[0m\n\u001b[0;32m-> 1390\u001b[0;31m         \u001b[0mself\u001b[0m\u001b[1;33m.\u001b[0m\u001b[0m_reader\u001b[0m \u001b[1;33m=\u001b[0m \u001b[0m_parser\u001b[0m\u001b[1;33m.\u001b[0m\u001b[0mTextReader\u001b[0m\u001b[1;33m(\u001b[0m\u001b[0msrc\u001b[0m\u001b[1;33m,\u001b[0m \u001b[1;33m**\u001b[0m\u001b[0mkwds\u001b[0m\u001b[1;33m)\u001b[0m\u001b[1;33m\u001b[0m\u001b[0m\n\u001b[0m\u001b[1;32m   1391\u001b[0m \u001b[1;33m\u001b[0m\u001b[0m\n\u001b[1;32m   1392\u001b[0m         \u001b[1;31m# XXX\u001b[0m\u001b[1;33m\u001b[0m\u001b[1;33m\u001b[0m\u001b[0m\n",
      "\u001b[0;32mpandas\\parser.pyx\u001b[0m in \u001b[0;36mpandas.parser.TextReader.__cinit__ (pandas\\parser.c:4184)\u001b[0;34m()\u001b[0m\n",
      "\u001b[0;32mpandas\\parser.pyx\u001b[0m in \u001b[0;36mpandas.parser.TextReader._setup_parser_source (pandas\\parser.c:8449)\u001b[0;34m()\u001b[0m\n",
      "\u001b[0;31mIOError\u001b[0m: File ./Defense/output_Defense_8x8_0509055749.csv does not exist"
     ]
    }
   ],
   "source": [
    "# Output the Mean\n",
    "# Title of output table\n",
    "outputMean = DataFrame(columns=['Generation', 'Fitness_RectangleQuality', 'Fitness_CorridorQuality'\n",
    "                            , 'Fitness_ConnectedQuality', 'SumOfSpaceFitnessScore'\n",
    "                            , 'Fitness_MainPathQuality', 'Fitness_Defense'\n",
    "                            , 'Fitness_OnMainPath_EnemyTrap', 'Fitness_OnMainPath_Treasure'\n",
    "                            , 'Fitness_BesideMainPath_EnemyTrap', 'Fitness_BesideMainPath_Treasure'\n",
    "                            , 'Fitness_TwoPronged', 'SumOfGameObjectFitnessScore'\n",
    "                            , 'Fitness_Defense_Space','Fitness_Defense_GameObject'])\n",
    "\n",
    "for i in range(0, 51, 1):\n",
    "    # Get the value in one generation\n",
    "    outputMean.loc[i] = [i,\n",
    "                         sum(getData(spaceIDList, i, Fitness_RectangleQuality=True))/10,\n",
    "                         sum(getData(spaceIDList, i, Fitness_CorridorQuality=True))/10,\n",
    "                         sum(getData(spaceIDList, i, Fitness_ConnectedQuality=True))/10,\n",
    "                         sum(getData(spaceIDList, i, SumOfSpaceFitnessScore=True))/10,\n",
    "                         sum(getData(spaceIDList, i, Fitness_MainPathQuality=True))/10,\n",
    "                         sum(getData(spaceIDList, i, Fitness_Defense=True))/10,\n",
    "                         sum(getData(spaceIDList, i, Fitness_OnMainPath_EnemyTrap=True))/10,\n",
    "                         sum(getData(spaceIDList, i, Fitness_OnMainPath_Treasure=True))/10,\n",
    "                         sum(getData(spaceIDList, i, Fitness_BesideMainPath_EnemyTrap=True))/10,\n",
    "                         sum(getData(spaceIDList, i, Fitness_BesideMainPath_Treasure=True))/10,\n",
    "                         sum(getData(spaceIDList, i, Fitness_TwoPronged=True))/10,\n",
    "                         sum(getData(spaceIDList, i, SumOfGameObjectFitnessScore=True))/10,\n",
    "                         sum(getData(spaceIDList, i, Fitness_Defense_Space=True))/10,\n",
    "                         sum(getData(spaceIDList, i, Fitness_Defense_GameObject=True))/10]\n",
    "# OUTPUT\n",
    "outputMean.to_csv(\"./Defense/output_\"+ TacticName +\"_Mean.csv\", index=False)"
   ]
  },
  {
   "cell_type": "code",
   "execution_count": null,
   "metadata": {
    "collapsed": true
   },
   "outputs": [],
   "source": []
  }
 ],
 "metadata": {
  "kernelspec": {
   "display_name": "Python 2",
   "language": "python",
   "name": "python2"
  },
  "language_info": {
   "codemirror_mode": {
    "name": "ipython",
    "version": 2
   },
   "file_extension": ".py",
   "mimetype": "text/x-python",
   "name": "python",
   "nbconvert_exporter": "python",
   "pygments_lexer": "ipython2",
   "version": "2.7.13"
  }
 },
 "nbformat": 4,
 "nbformat_minor": 2
}
