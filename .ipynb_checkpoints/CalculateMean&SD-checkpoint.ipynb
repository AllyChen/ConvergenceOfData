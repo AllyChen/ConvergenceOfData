{
 "cells": [
  {
   "cell_type": "code",
   "execution_count": 1,
   "metadata": {
    "collapsed": true
   },
   "outputs": [],
   "source": [
    "import sys\n",
    "import os\n",
    "from pandas import Series, DataFrame\n",
    "import pandas as pd\n",
    "import numpy as np"
   ]
  },
  {
   "cell_type": "code",
   "execution_count": 2,
   "metadata": {
    "collapsed": true
   },
   "outputs": [],
   "source": [
    "TacticName = 'Bait'\n",
    "\n",
    "spaceID0 = 'Bait_8x8_0425034754'\n",
    "gameObjectID0 = '0425034757'\n",
    "\n",
    "spaceID1 = 'Bait_8x8_0425034801'\n",
    "gameObjectID1 = '0425034804'\n",
    "\n",
    "spaceID2 = 'Bait_8x8_0425034808'\n",
    "gameObjectID2 = '0425034811'\n",
    "\n",
    "spaceID3 = 'Bait_8x8_0425034815'\n",
    "gameObjectID3 = '0425034818'\n",
    "\n",
    "spaceID4 = 'Bait_8x8_0425034822'\n",
    "gameObjectID4 = '0425034824'\n",
    "\n",
    "spaceID5 = 'Bait_8x8_0425034828'\n",
    "gameObjectID5 = '0425034831'\n",
    "\n",
    "spaceID6 = 'Bait_8x8_0425034834'\n",
    "gameObjectID6 = '0425034837'\n",
    "\n",
    "spaceID7 = 'Bait_8x8_0425034840'\n",
    "gameObjectID7 = '0425034843'\n",
    "\n",
    "spaceID8 = 'Bait_8x8_0425034846'\n",
    "gameObjectID8 = '0425034849'\n",
    "\n",
    "spaceID9 = 'Bait_8x8_0425034853'\n",
    "gameObjectID9 = '0425034855'\n",
    "\n",
    "spaceIDList = [spaceID0, spaceID1, spaceID2, spaceID3, spaceID4, spaceID5, spaceID6, spaceID7, spaceID8, spaceID9]\n",
    "gameObjectIDList = [gameObjectID0, gameObjectID1, gameObjectID2, gameObjectID3, gameObjectID4, \n",
    "                    gameObjectID5, gameObjectID6, gameObjectID7, gameObjectID8, gameObjectID9]"
   ]
  },
  {
   "cell_type": "code",
   "execution_count": 3,
   "metadata": {
    "collapsed": false
   },
   "outputs": [],
   "source": [
    "# From https://codeselfstudy.com/blogs/how-to-calculate-standard-deviation-in-python\n",
    "from math import sqrt\n",
    "\n",
    "def standard_deviation(lst, population=True):\n",
    "    \"\"\"Calculates the standard deviation for a list of numbers.\"\"\"\n",
    "    num_items = len(lst)\n",
    "    mean = sum(lst) / num_items\n",
    "    differences = [round(x - mean, 9) for x in lst]\n",
    "    sq_differences = [round(d ** 2, 9) for d in differences]\n",
    "    ssd = sum(sq_differences)\n",
    " \n",
    "    # Note: it would be better to return a value and then print it outside\n",
    "    # the function, but this is just a quick way to print out the values along\n",
    "    # the way.\n",
    "    if population is True:\n",
    "        # This is POPULATION standard deviation.\n",
    "        variance = ssd / num_items\n",
    "    else:\n",
    "        # This is SAMPLE standard deviation.\n",
    "        variance = ssd / (num_items - 1)\n",
    "    sd = sqrt(variance)\n",
    "    return sd"
   ]
  },
  {
   "cell_type": "code",
   "execution_count": 4,
   "metadata": {
    "collapsed": false
   },
   "outputs": [],
   "source": [
    "def getData(spaceIDList, Generation, Fitness_RectangleQuality=False, Fitness_CorridorQuality=False, \n",
    "            Fitness_ConnectedQuality=False, SumOfSpaceFitnessScore=False, \n",
    "            Fitness_MainPathQuality=False, Fitness_Defense=False, \n",
    "            Fitness_OnMainPath_EnemyTrap=False, Fitness_OnMainPath_Treasure=False, \n",
    "            Fitness_BesideMainPath_EnemyTrap=False, Fitness_BesideMainPath_Treasure=False, \n",
    "            Fitness_TwoPronged=False, SumOfGameObjectFitnessScore=False):\n",
    "    # Create the new list\n",
    "    List = []\n",
    "   \n",
    "    # Get the value from data\n",
    "    if Fitness_RectangleQuality is True:\n",
    "        needCalculate=True\n",
    "        Fitness='Fitness_RectangleQuality'\n",
    "    elif Fitness_CorridorQuality is True:\n",
    "        needCalculate=True\n",
    "        Fitness='Fitness_CorridorQuality'\n",
    "    elif Fitness_ConnectedQuality is True:\n",
    "        needCalculate=True\n",
    "        Fitness='Fitness_ConnectedQuality'\n",
    "    elif SumOfSpaceFitnessScore is True:\n",
    "        needCalculate=True\n",
    "        Fitness='SumOfSpaceFitnessScore'\n",
    "    elif Fitness_MainPathQuality is True:\n",
    "        needCalculate=True\n",
    "        Fitness='Fitness_MainPathQuality'\n",
    "    elif Fitness_Defense is True:\n",
    "        needCalculate=True\n",
    "        Fitness='Fitness_Defense'\n",
    "    elif Fitness_OnMainPath_EnemyTrap is True:\n",
    "        needCalculate=True\n",
    "        Fitness='Fitness_OnMainPath_EnemyTrap'\n",
    "    elif Fitness_OnMainPath_Treasure is True:\n",
    "        needCalculate=True\n",
    "        Fitness='Fitness_OnMainPath_Treasure'\n",
    "    elif Fitness_BesideMainPath_EnemyTrap is True:\n",
    "        needCalculate=True\n",
    "        Fitness='Fitness_BesideMainPath_EnemyTrap'\n",
    "    elif Fitness_BesideMainPath_Treasure is True:\n",
    "        needCalculate=True\n",
    "        Fitness='Fitness_BesideMainPath_Treasure'\n",
    "    elif Fitness_TwoPronged is True:\n",
    "        needCalculate=True\n",
    "        Fitness='Fitness_TwoPronged'\n",
    "    elif SumOfGameObjectFitnessScore is True:\n",
    "        needCalculate=True\n",
    "        Fitness='SumOfGameObjectFitnessScore'\n",
    "    else:\n",
    "        needCalculate=False\n",
    "    \n",
    "    if needCalculate is True:\n",
    "        for i in range(0, 10, 1):\n",
    "            #input table\n",
    "            spaceID = spaceIDList[i]\n",
    "            orlData = pd.read_csv(\"./Experiment_01_output/output_\"+ spaceID +\".csv\")\n",
    "            List.append(orlData[Fitness][Generation])\n",
    "        \n",
    "    return List"
   ]
  },
  {
   "cell_type": "code",
   "execution_count": 5,
   "metadata": {
    "collapsed": false
   },
   "outputs": [],
   "source": [
    "# Output the SD\n",
    "# Title of output table\n",
    "outputSD = DataFrame(columns=['Generation', 'Fitness_RectangleQuality', 'Fitness_CorridorQuality'\n",
    "                            , 'Fitness_ConnectedQuality', 'SumOfSpaceFitnessScore'\n",
    "                            , 'Fitness_MainPathQuality', 'Fitness_Defense'\n",
    "                            , 'Fitness_OnMainPath_EnemyTrap', 'Fitness_OnMainPath_Treasure'\n",
    "                            , 'Fitness_BesideMainPath_EnemyTrap', 'Fitness_BesideMainPath_Treasure'\n",
    "                            , 'Fitness_TwoPronged', 'SumOfGameObjectFitnessScore'])\n",
    "\n",
    "for i in range(0, 51, 1):\n",
    "    # Get the value in one generation\n",
    "    outputSD.loc[i] = [i,\n",
    "                       standard_deviation(getData(spaceIDList, i, Fitness_RectangleQuality=True)),\n",
    "                       standard_deviation(getData(spaceIDList, i, Fitness_CorridorQuality=True)),\n",
    "                       standard_deviation(getData(spaceIDList, i, Fitness_ConnectedQuality=True)),\n",
    "                       standard_deviation(getData(spaceIDList, i, SumOfSpaceFitnessScore=True)),\n",
    "                       standard_deviation(getData(spaceIDList, i, Fitness_MainPathQuality=True)),\n",
    "                       standard_deviation(getData(spaceIDList, i, Fitness_Defense=True)),\n",
    "                       standard_deviation(getData(spaceIDList, i, Fitness_OnMainPath_EnemyTrap=True)),\n",
    "                       standard_deviation(getData(spaceIDList, i, Fitness_OnMainPath_Treasure=True)),\n",
    "                       standard_deviation(getData(spaceIDList, i, Fitness_BesideMainPath_EnemyTrap=True)),\n",
    "                       standard_deviation(getData(spaceIDList, i, Fitness_BesideMainPath_Treasure=True)),\n",
    "                       standard_deviation(getData(spaceIDList, i, Fitness_TwoPronged=True)),\n",
    "                       standard_deviation(getData(spaceIDList, i, SumOfGameObjectFitnessScore=True))]\n",
    "# OUTPUT\n",
    "outputSD.to_csv(\"./Experiment_01_output/output_\"+ TacticName +\"_SD.csv\", index=False)"
   ]
  },
  {
   "cell_type": "code",
   "execution_count": 6,
   "metadata": {
    "collapsed": false
   },
   "outputs": [],
   "source": [
    "# Output the Mean\n",
    "# Title of output table\n",
    "outputMean = DataFrame(columns=['Generation', 'Fitness_RectangleQuality', 'Fitness_CorridorQuality'\n",
    "                            , 'Fitness_ConnectedQuality', 'SumOfSpaceFitnessScore'\n",
    "                            , 'Fitness_MainPathQuality', 'Fitness_Defense'\n",
    "                            , 'Fitness_OnMainPath_EnemyTrap', 'Fitness_OnMainPath_Treasure'\n",
    "                            , 'Fitness_BesideMainPath_EnemyTrap', 'Fitness_BesideMainPath_Treasure'\n",
    "                            , 'Fitness_TwoPronged', 'SumOfGameObjectFitnessScore'])\n",
    "\n",
    "for i in range(0, 51, 1):\n",
    "    # Get the value in one generation\n",
    "    outputMean.loc[i] = [i,\n",
    "                         sum(getData(spaceIDList, i, Fitness_RectangleQuality=True))/10,\n",
    "                         sum(getData(spaceIDList, i, Fitness_CorridorQuality=True))/10,\n",
    "                         sum(getData(spaceIDList, i, Fitness_ConnectedQuality=True))/10,\n",
    "                         sum(getData(spaceIDList, i, SumOfSpaceFitnessScore=True))/10,\n",
    "                         sum(getData(spaceIDList, i, Fitness_MainPathQuality=True))/10,\n",
    "                         sum(getData(spaceIDList, i, Fitness_Defense=True))/10,\n",
    "                         sum(getData(spaceIDList, i, Fitness_OnMainPath_EnemyTrap=True))/10,\n",
    "                         sum(getData(spaceIDList, i, Fitness_OnMainPath_Treasure=True))/10,\n",
    "                         sum(getData(spaceIDList, i, Fitness_BesideMainPath_EnemyTrap=True))/10,\n",
    "                         sum(getData(spaceIDList, i, Fitness_BesideMainPath_Treasure=True))/10,\n",
    "                         sum(getData(spaceIDList, i, Fitness_TwoPronged=True))/10,\n",
    "                         sum(getData(spaceIDList, i, SumOfGameObjectFitnessScore=True))/10]\n",
    "# OUTPUT\n",
    "outputMean.to_csv(\"./Experiment_01_output/output_\"+ TacticName +\"_Mean.csv\", index=False)"
   ]
  },
  {
   "cell_type": "code",
   "execution_count": null,
   "metadata": {
    "collapsed": true
   },
   "outputs": [],
   "source": []
  }
 ],
 "metadata": {
  "kernelspec": {
   "display_name": "Python 2",
   "language": "python",
   "name": "python2"
  },
  "language_info": {
   "codemirror_mode": {
    "name": "ipython",
    "version": 2
   },
   "file_extension": ".py",
   "mimetype": "text/x-python",
   "name": "python",
   "nbconvert_exporter": "python",
   "pygments_lexer": "ipython2",
   "version": "2.7.13"
  }
 },
 "nbformat": 4,
 "nbformat_minor": 2
}
